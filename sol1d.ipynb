{
 "cells": [
  {
   "cell_type": "markdown",
   "metadata": {},
   "source": [
    "# Problem: Solve the following equation"
   ]
  },
  {
   "cell_type": "markdown",
   "metadata": {},
   "source": [
    "$$\\frac{d}{dx}(e^x\\frac{du(x)}{dx})=-e^x[cos(x) - 2sin(x) -xcos(x) - xsin(x)]$$\n",
    "\n",
    "$$u(0) = 0, u(1) = cos(1)$$\n"
   ]
  },
  {
   "cell_type": "code",
   "execution_count": 1,
   "metadata": {},
   "outputs": [
    {
     "name": "stdout",
     "output_type": "stream",
     "text": [
      "\n",
      "python setup\n",
      "pip install sympy\n",
      "pip install numpy\n",
      "pip install scipy\n",
      "pip install matplotlib\n",
      "pip install jupyter\n",
      "jupyter notebook\n",
      "\n",
      "shift + enter to execute code block in jupyter\n",
      "\n"
     ]
    }
   ],
   "source": [
    "print(\n",
    "\"\"\"\n",
    "python setup\n",
    "pip install sympy\n",
    "pip install numpy\n",
    "pip install scipy\n",
    "pip install matplotlib\n",
    "pip install jupyter\n",
    "jupyter notebook\n",
    "\n",
    "shift + enter to execute code block in jupyter\n",
    "\"\"\")\n",
    "\n"
   ]
  },
  {
   "cell_type": "markdown",
   "metadata": {},
   "source": [
    "### verify solution u = xcos(x) "
   ]
  },
  {
   "cell_type": "markdown",
   "metadata": {},
   "source": [
    "$$\\frac{d}{dx}(e^x\\frac{d[xcos(x)]}{dx})=-e^x[cos(x) - 2sin(x) -xcos(x) - xsin(x)]$$\n",
    "$$xcos(x)_{x=0}=0, xcos(x)_{x=1}=cos(1)$$\n",
    "\n"
   ]
  },
  {
   "cell_type": "code",
   "execution_count": 2,
   "metadata": {},
   "outputs": [
    {
     "name": "stdout",
     "output_type": "stream",
     "text": [
      "(-x*sin(x) + cos(x))*exp(x) + (-x*cos(x) - 2*sin(x))*exp(x)\n",
      "0.0\n",
      "0.5403023058681398\n",
      "0.5403023058681398\n"
     ]
    }
   ],
   "source": [
    "import sympy as sp\n",
    "import numpy as np\n",
    "\n",
    "x=sp.symbols('x')\n",
    "\n",
    "#bench mark solution \n",
    "u = x * sp.cos(x)\n",
    "\n",
    "y=sp.diff(sp.exp(x)*sp.diff((u)))\n",
    "start=0.\n",
    "end=1.\n",
    "print(y)\n",
    "print(start*np.cos(start))\n",
    "print(end*np.cos(end))\n",
    "print(np.cos(1))\n"
   ]
  },
  {
   "cell_type": "markdown",
   "metadata": {},
   "source": [
    "# Finite element solution"
   ]
  },
  {
   "cell_type": "markdown",
   "metadata": {},
   "source": [
    "u is the function we want to know\n",
    "$$-(cu^{'})^{'}=f$$\n",
    "apply a known test function v(x) to interact with the original function, try to get information\n",
    "$$-(cu^{'})^{'}v=fv$$\n",
    "integrate within the boundaries a=0 and b=1\n",
    "$$-\\int_{0}^1(cu^{'})^{'}v\\,dx=\\int_{0}^1 fv\\,dx$$\n",
    "the left side:\n",
    "$$\\int_{0}^1(cu^{'})^{'}v\\,dx=\\int_{0}^1v\\,d(cu^{'})=cu^{'}v|_{0}^{1} - \\int_{0}^1(cu^{'})\\,dv$$\n",
    "so our equation can be written as:\n",
    "$$c(1)u^{'}(1)v(1) - c(0)u^{'}(0)v(0) + \\int_{0}^1cu^{'}v^{'}\\,dx =\\int_{0}^1 fv\\,dx$$\n",
    "choose v(x) so that v(1)=v(0)=0, we have\n",
    "$$\\int_{0}^1(cu^{'}v^{'})\\,dx=\\int_{0}^1 fv\\,dx$$"
   ]
  },
  {
   "cell_type": "code",
   "execution_count": 3,
   "metadata": {},
   "outputs": [
    {
     "data": {
      "text/plain": [
       "0.2"
      ]
     },
     "execution_count": 3,
     "metadata": {},
     "output_type": "execute_result"
    }
   ],
   "source": [
    "import numpy as np\n",
    "\n",
    "#N cells\n",
    "N = 5\n",
    "#size of one cell\n",
    "h = (end-start)/N\n",
    "\n",
    "#f function\n",
    "def f(x):\n",
    "    return -np.exp(x) * (np.cos(x) - 2*np.sin(x) - x*np.cos(x) - x*np.sin(x))\n",
    "\n",
    "#c function\n",
    "def c(x):\n",
    "    return np.exp(x)\n",
    "\n",
    "#bondary condition\n",
    "u0 = 0\n",
    "u1 = np.cos(1)\n",
    "\n",
    "h"
   ]
  },
  {
   "cell_type": "code",
   "execution_count": 4,
   "metadata": {},
   "outputs": [
    {
     "data": {
      "text/plain": [
       "array([0. , 0.2, 0.4, 0.6, 0.8, 1. ])"
      ]
     },
     "execution_count": 4,
     "metadata": {},
     "output_type": "execute_result"
    }
   ],
   "source": [
    "#P matrix [0, 1/(N-1), 2/(N-1),..., N-1/(N-1)]\n",
    "P = np.arange(start, end+h, h)\n",
    "P"
   ]
  },
  {
   "cell_type": "code",
   "execution_count": 5,
   "metadata": {},
   "outputs": [
    {
     "data": {
      "text/plain": [
       "array([[0, 1, 2, 3, 4, 5],\n",
       "       [1, 2, 3, 4, 5, 0]])"
      ]
     },
     "execution_count": 5,
     "metadata": {},
     "output_type": "execute_result"
    }
   ],
   "source": [
    "#T matrix\n",
    "\"\"\"\n",
    "N=5\n",
    "array([[0, 1, 2, 3, 4],\n",
    "       [1, 2, 3, 4, 5]])\n",
    "\"\"\"\n",
    "row = 2 #node per cell\n",
    "T = np.array([[i + j for i in range(N+1)] for j in range(row)])\n",
    "T[row-1,N] = 0\n",
    "T"
   ]
  },
  {
   "cell_type": "markdown",
   "metadata": {},
   "source": [
    "### choose test funtions v as the following \n",
    "\n",
    "$$\n",
    "\\phi_{j}(x_{i}) = \\delta_{i,j} \\left\\{\n",
    "    \\begin{array}\\\\\n",
    "        1 & \\mbox{if } i = j \\\\\n",
    "        0 & \\mbox{else.}\n",
    "    \\end{array}\n",
    "\\right.\n",
    "$$\n",
    "\n",
    "$$ U_{h} = span\\{\\phi_{j}\\}_{j=1}^{N+1}$$\n",
    "$$ \\sum_{j=1}^{N+1}C_{j}\\phi_{j}(x)=0$$\n",
    "$$\n",
    "\\phi_{1}(x) = \\left\\{\n",
    "    \\begin{array}\\\\\n",
    "        \\frac{x_{2}-x}{h} & \\mbox{if } \\ x \\in [x_{1}, x_{2}] \\\\\n",
    "        0 & \\mbox{else.}\n",
    "    \\end{array}\n",
    "\\right.\n",
    "$$\n",
    "\n",
    "$$\n",
    "\\phi_{j}(x) = \\left\\{\n",
    "    \\begin{array}\\\\\n",
    "        \\frac{x-x_{j-1}}{h} & \\mbox{if } \\ x \\in [x_{j-1}, x_{j}] \\\\\n",
    "        \\frac{x_{j+1}-x}{h} & \\mbox{if } \\ x \\in [x_{j}, x_{j+1}] \\\\\n",
    "        0 & \\mbox{else.}\n",
    "    \\end{array}\n",
    "\\right.\n",
    "$$\n",
    "\n",
    "$$\n",
    "\\phi_{N+1}(x) = \\left\\{\n",
    "    \\begin{array}\\\\\n",
    "        \\frac{x-x_{N}}{h} & \\mbox{if } \\ x \\in [x_{N}, x_{N+1}] \\\\\n",
    "        0 & \\mbox{else.}\n",
    "    \\end{array}\n",
    "\\right.\n",
    "$$\n",
    "\n",
    "$$u=\\sum_{0}^{N}u_{j}\\phi_{j}$$\n"
   ]
  },
  {
   "cell_type": "code",
   "execution_count": 6,
   "metadata": {},
   "outputs": [
    {
     "data": {
      "text/plain": [
       "<matplotlib.legend.Legend at 0x120f28da0>"
      ]
     },
     "execution_count": 6,
     "metadata": {},
     "output_type": "execute_result"
    },
    {
     "data": {
      "image/png": "[encoded data removed]",
      "text/plain": [
       "<Figure size 432x288 with 1 Axes>"
      ]
     },
     "metadata": {
      "needs_background": "light"
     },
     "output_type": "display_data"
    }
   ],
   "source": [
    "import matplotlib.pyplot as plt\n",
    "\n",
    "def phi(x, j):\n",
    "    if j == 0:\n",
    "        if (x >= P[0]) & (x<= P[1]):\n",
    "            return (P[1]-x)/h\n",
    "        else:\n",
    "            return 0\n",
    "    if j == N:\n",
    "        if (x >= P[N-1]) & (x<= P[N]):\n",
    "            return (x-P[N-1])/h\n",
    "        else:\n",
    "            return 0\n",
    "    if (x >= P[j-1]) & (x <= P[j]): return (x-P[j-1])/h\n",
    "    elif (x >= P[j]) & (x <= P[j+1]): return (P[j+1]-x)/h\n",
    "    else: return 0\n",
    "    \n",
    "def phiarray(xarray, j):\n",
    "    l = P.copy()\n",
    "    for n in range(0, xarray.size):\n",
    "        l[n] = phi(xarray[n], j)\n",
    "    return l\n",
    "    \n",
    "t=P\n",
    "for j in range(N+1):\n",
    "    plt.plot(t, phiarray(t, j), label=j)\n",
    "plt.legend()"
   ]
  },
  {
   "cell_type": "markdown",
   "metadata": {},
   "source": [
    "=>\n",
    "$$\\sum_{j=0}^{N}u_{j}[\\int_{0}^{1}c\\phi_{j}^{'}\\phi_{i}^{'}\\, dx]=\\int_{0}^{1}f\\phi_{i}\\, dx,\\, (i=0, 1, 2,...N)$$\n",
    "$$a_{i,j}=\\int_{0}^{1}c\\phi_{j}^{'}\\phi_{i}^{'}\\, dx=\\sum_{n=0}^{N-1}\\int_{x_{n}}^{x_{n+1}}c\\phi_{j}^{'}\\phi_{i}^{'}\\, dx$$\n",
    "$$b_{i}=\\int_{0}^{1}f\\phi_{i}\\, dx=\\sum_{n=0}^{N-1}\\int_{x_{n}}^{x_{n+1}}f\\phi_{i}\\, dx, (i=0, 1, 2,...N)$$\n",
    "\n",
    "=>\n",
    "$$a_{i,j}:\\,except\\,\\alpha=0,1\\,and\\,\\beta=0,1\\,other\\,itegrations\\,are\\,all\\,zero$$\n",
    "\n",
    "$$\n",
    "r_{p} = \\phi_{n+\\alpha}^{'}\\phi_{n+\\beta}^{'} = \\left\\{\n",
    "    \\begin{array}\\\\\n",
    "        \\frac{1}{h}^{2} & \\mbox{if } \\alpha\\,and\\,\\beta\\,same \\\\\n",
    "        -\\frac{1}{h}^{2} & \\mbox{else.}\n",
    "    \\end{array}\n",
    "\\right.\n",
    "$$\n",
    "\n",
    "$$\n",
    "r = \\int_{x_{n}}^{x_{n+1}}cr_{p}\\,dx\n",
    "$$\n",
    "$$r=\\int_{P[n]}^{P[n+1]}c r_{p}\\,dx$$\n",
    "$$i=T[\\beta,n], j=T[\\alpha,n]$$"
   ]
  },
  {
   "cell_type": "markdown",
   "metadata": {},
   "source": [
    "### solve A matrix"
   ]
  },
  {
   "cell_type": "code",
   "execution_count": 7,
   "metadata": {},
   "outputs": [
    {
     "data": {
      "text/plain": [
       "array([[  5.53506895,  -5.53506895,   0.        ,   0.        ,\n",
       "          0.        ,   0.        ],\n",
       "       [ -5.53506895,  12.29561744,  -6.76054849,   0.        ,\n",
       "          0.        ,   0.        ],\n",
       "       [  0.        ,  -6.76054849,  15.01790106,  -8.25735257,\n",
       "          0.        ,   0.        ],\n",
       "       [  0.        ,   0.        ,  -8.25735257,  18.34290577,\n",
       "        -10.0855532 ,   0.        ],\n",
       "       [  0.        ,   0.        ,   0.        , -10.0855532 ,\n",
       "         22.4040757 , -12.3185225 ],\n",
       "       [  0.        ,   0.        ,   0.        ,   0.        ,\n",
       "        -12.3185225 ,  12.3185225 ]])"
      ]
     },
     "execution_count": 7,
     "metadata": {},
     "output_type": "execute_result"
    }
   ],
   "source": [
    "from scipy.integrate import quad\n",
    "\n",
    "#absolute value of integral for any pairs of base functions on [0,1]\n",
    "rp= (1/h)*(1/h)\n",
    "#x2=lambda x: c(x)*rp\n",
    "\n",
    "A=np.zeros((N+1, N+1))\n",
    "for n in range(N):\n",
    "    for alpha in [0,1]:\n",
    "        for beta in [0,1]:\n",
    "            if alpha^beta == 1:\n",
    "                rp = -(1/h)*(1/h)\n",
    "            else:\n",
    "                rp = (1/h)*(1/h)\n",
    "            i=T[beta,n]\n",
    "            j=T[alpha,n]\n",
    "            #integrate\n",
    "            r=quad(lambda x: c(x)*rp,P[n],P[n+1])\n",
    "            A[i,j]=A[i,j] + r[0]\n",
    "A"
   ]
  },
  {
   "cell_type": "markdown",
   "metadata": {},
   "source": [
    "### solve b array\n",
    "$$b_{i}=\\sum_{n=0}^{N-1}\\int_{x_{n}}^{x_{n+1}}f\\phi_{i}\\, dx, \\,\\, (i=0, 1, 2,...N)$$\n",
    "\n",
    "$$b_{j}'s\\, integral = \\left\\{\n",
    "    \\begin{array}\\\\\n",
    "        f(x)\\frac{x-x_{j-1}}{h} & \\mbox{if } \\ x \\in [x_{j-1}, x_{j}] \\\\\n",
    "        f(x)\\frac{x_{j+1}-x}{h} & \\mbox{if } \\ x \\in [x_{j}, x_{j+1}] \\\\\n",
    "        0 & \\mbox{else.}\n",
    "    \\end{array}\n",
    "\\right.\n",
    "$$\n",
    "\n",
    "$$b_{i}= \\int_{P[i-1]}^{P[i]}f(x) \\frac{x-P[i-1]}{h}\\, dx + \\int_{P[i]}^{P[i+1]}f(x) \\frac{P[i+1]-x}{h}\\, dx$$"
   ]
  },
  {
   "cell_type": "code",
   "execution_count": 8,
   "metadata": {},
   "outputs": [
    {
     "data": {
      "text/plain": [
       "array([-0.08383855, -0.07780029,  0.12248126,  0.4244413 ,  0.8423327 ,\n",
       "        0.59104493])"
      ]
     },
     "execution_count": 8,
     "metadata": {},
     "output_type": "execute_result"
    }
   ],
   "source": [
    "b=np.zeros((N+1))  \n",
    "for n in range(N):\n",
    "    for alpha in [0,1]:\n",
    "        v = lambda x: f(x)*phi(x, n+alpha)\n",
    "        r = quad(v,P[n],P[n+1])\n",
    "        b[n+alpha] = b[n+alpha] + r[0]\n",
    "        \n",
    "b"
   ]
  },
  {
   "cell_type": "markdown",
   "metadata": {},
   "source": [
    "### edge condition u0 and u1\n",
    "$$c(1)u^{'}(1)v(1) - c(0)u^{'}(0)v(0) + \\int_{0}^1cu^{'}v^{'}\\,dx =\\int_{0}^1 fv\\,dx$$\n",
    "choose test function v(x) so that v(1)=v(0)=0, we have\n",
    "$$\\int_{0}^1(cu^{'}v^{'})\\,dx=\\int_{0}^1 fv\\,dx$$\n",
    "the above assumption is not correct at our bondary, our test function has bondary value 1 instead of 0, actually\n",
    "$$\\phi_{x0}=1\\,and\\,\\phi_{x_{N}}=1$$\n",
    "\n",
    "so the first row and last row in A and b should be replaced by u0=0 and u1=cos(1) boundary conditions:\n",
    "$$[1,0,0...0]x_{0}=0$$\n",
    "$$...$$\n",
    "$$[0,0,0...1]x_{N}=cos(1)$$"
   ]
  },
  {
   "cell_type": "code",
   "execution_count": 9,
   "metadata": {},
   "outputs": [
    {
     "name": "stdout",
     "output_type": "stream",
     "text": [
      "[[  1.           0.           0.           0.           0.\n",
      "    0.        ]\n",
      " [ -5.53506895  12.29561744  -6.76054849   0.           0.\n",
      "    0.        ]\n",
      " [  0.          -6.76054849  15.01790106  -8.25735257   0.\n",
      "    0.        ]\n",
      " [  0.           0.          -8.25735257  18.34290577 -10.0855532\n",
      "    0.        ]\n",
      " [  0.           0.           0.         -10.0855532   22.4040757\n",
      "  -12.3185225 ]\n",
      " [  0.           0.           0.           0.           0.\n",
      "    1.        ]]\n",
      "[ 0.         -0.07780029  0.12248126  0.4244413   0.8423327   0.54030231]\n"
     ]
    }
   ],
   "source": [
    "A[0,0:]=0\n",
    "A[N,0:]=0\n",
    "A[0,0]=1\n",
    "A[N,N]=1\n",
    "b[0]=0\n",
    "b[N]=np.cos(1)\n",
    "print(A)\n",
    "print(b)"
   ]
  },
  {
   "cell_type": "markdown",
   "metadata": {},
   "source": [
    "### solve Ax=b"
   ]
  },
  {
   "cell_type": "code",
   "execution_count": 10,
   "metadata": {},
   "outputs": [
    {
     "data": {
      "text/plain": [
       "array([5.61623440e-16, 1.97058781e-01, 3.69904851e-01, 4.96586251e-01,\n",
       "       5.58220122e-01, 5.40302306e-01])"
      ]
     },
     "execution_count": 10,
     "metadata": {},
     "output_type": "execute_result"
    }
   ],
   "source": [
    "x=np.linalg.solve(A,b)\n",
    "x"
   ]
  },
  {
   "cell_type": "markdown",
   "metadata": {},
   "source": [
    "### compare finite-element solution with the analytical solution xcos(x)\n",
    "$$u=\\sum_{0}^{N}x_{j}\\phi_{j} \\,\\,\\,\\,VS.\\,\\,\\,\\,xcos(x)$$"
   ]
  },
  {
   "cell_type": "code",
   "execution_count": 11,
   "metadata": {},
   "outputs": [
    {
     "data": {
      "text/plain": [
       "<matplotlib.legend.Legend at 0x12c987208>"
      ]
     },
     "execution_count": 11,
     "metadata": {},
     "output_type": "execute_result"
    },
    {
     "data": {
      "image/png": "[encoded data removed]",
      "text/plain": [
       "<Figure size 432x288 with 1 Axes>"
      ]
     },
     "metadata": {
      "needs_background": "light"
     },
     "output_type": "display_data"
    }
   ],
   "source": [
    "def ufinite(array):\n",
    "    l = array.copy()\n",
    "    for n in range(array.size):\n",
    "        l[n] = 0\n",
    "        for j in range(N+1):\n",
    "            l[n] = l[n] + phi(array[n], j)*x[j]\n",
    "    return l\n",
    "plt.plot(P, ufinite(P), label='finite-element')\n",
    "plt.plot(P, P*np.cos(P), label='benchmark')\n",
    "t=P\n",
    "for j in range(N+1):\n",
    "    plt.plot(t, phiarray(t, j), label=j)\n",
    "plt.legend()"
   ]
  },
  {
   "cell_type": "code",
   "execution_count": null,
   "metadata": {},
   "outputs": [],
   "source": []
  },
  {
   "cell_type": "code",
   "execution_count": null,
   "metadata": {},
   "outputs": [],
   "source": []
  },
  {
   "cell_type": "code",
   "execution_count": null,
   "metadata": {},
   "outputs": [],
   "source": []
  }
 ],
 "metadata": {
  "kernelspec": {
   "display_name": "Python 3",
   "language": "python",
   "name": "python3"
  },
  "language_info": {
   "codemirror_mode": {
    "name": "ipython",
    "version": 3
   },
   "file_extension": ".py",
   "mimetype": "text/x-python",
   "name": "python",
   "nbconvert_exporter": "python",
   "pygments_lexer": "ipython3",
   "version": "3.7.3"
  }
 },
 "nbformat": 4,
 "nbformat_minor": 2
}
