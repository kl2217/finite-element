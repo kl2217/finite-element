{
  "nbformat": 4,
  "nbformat_minor": 0,
  "metadata": {
    "colab": {
      "provenance": [],
      "authorship_tag": "ABX9TyOR+wG2qlxywamZA32GkoZS",
      "include_colab_link": true
    },
    "kernelspec": {
      "name": "python3",
      "display_name": "Python 3"
    },
    "language_info": {
      "name": "python"
    }
  },
  "cells": [
    {
      "cell_type": "markdown",
      "metadata": {
        "id": "view-in-github",
        "colab_type": "text"
      },
      "source": [
        "<a href=\"https://colab.research.google.com/github/kl2217/finite-element/blob/main/remove_non_significant_variables.ipynb\" target=\"_parent\"><img src=\"https://colab.research.google.com/assets/colab-badge.svg\" alt=\"Open In Colab\"/></a>"
      ]
    },
    {
      "cell_type": "markdown",
      "source": [
        "Performing model selection on predictors using a t-test involves determining whether each predictor variable in a regression model has a statistically significant effect on the dependent variable. If a predictor does not significantly contribute to explaining the variation in the target variable, it may be removed from the model to improve efficiency and interpretability.\n",
        "\n",
        "Steps to Perform Model Selection Using a t-Test\n",
        "\n",
        "**Fit a Regression Model**\n",
        "\n",
        "* Choose a regression model, such as linear regression.\n",
        "* Fit the model using all available predictor variables.\n",
        "\n",
        "**Extract t-Statistics and p-Values**\n",
        "\n",
        "* The t-test evaluates the null hypothesis that a predictor’s coefficient is zero (meaning the predictor has no effect).\n",
        "* Compute the t-statistic:\n",
        "\n",
        "$$t = \\frac{\\hat{\\beta}_j}{SE(\\hat{\\beta}_j)}$$\n",
        "\n",
        "where:\n",
        "\n",
        "* $$\\hat{\\beta}_j$$ is the estimated coefficient for predictor j,\n",
        "* $$SE(\\hat{\\beta}_j)$$ is the standard error of the coefficient.\n",
        "\n",
        "\n",
        "**Assess Statistical Significance**\n",
        "\n",
        "* The p-value from the t-test indicates the probability of observing the coefficient given that the predictor has no actual effect.\n",
        "* Typically, predictors with p-values greater than 0.05 (5%) are considered statistically insignificant.\n",
        "\n",
        "**Eliminate Insignificant Predictors**\n",
        "\n",
        "* If a predictor’s p-value is above a chosen threshold (e.g., 0.05), remove it from the model.\n",
        "* Refit the model with the remaining predictors.\n",
        "\n",
        "**Repeat Until All Predictors are Significant**\n",
        "\n",
        "* Continue the process iteratively until only significant predictors remain.\n",
        "\n",
        "In the following example, we removed predictors X3 based on its p value 0.748. We choose statsmodels.api.OLS(y, X).fit() instead of sklearn.linear_model.LinearRegression().fit(X, y) because sklearn doesn't directly provide p-values or confidence intervals like statsmodels."
      ],
      "metadata": {
        "id": "2sj37ZLRDHdV"
      }
    },
    {
      "cell_type": "code",
      "source": [
        "import pandas as pd\n",
        "import numpy as np\n",
        "import statsmodels.api as sm\n",
        "\n",
        "# Generate synthetic data\n",
        "np.random.seed(42)\n",
        "n = 100\n",
        "X1 = np.random.randn(n)\n",
        "X2 = np.random.randn(n)\n",
        "X3 = np.random.randn(n)\n",
        "y = 3 + 2 * X1 + 0.5 * X2 + np.random.randn(n)  # X3 is irrelevant\n",
        "\n",
        "# Create DataFrame\n",
        "df = pd.DataFrame({'X1': X1, 'X2': X2, 'X3': X3, 'y': y})\n",
        "\n",
        "# Add constant term for intercept\n",
        "X = sm.add_constant(df[['X1', 'X2', 'X3']])\n",
        "y = df['y']\n",
        "\n",
        "# Fit the regression model\n",
        "model = sm.OLS(y, X).fit()\n",
        "\n",
        "# Display summary (includes t-test results)\n",
        "print(model.summary())\n",
        "\n",
        "# Select predictors based on p-values\n",
        "significant_vars = model.pvalues[model.pvalues < 0.05].index.tolist()\n",
        "\n",
        "# Remove non-significant variables and refit model\n",
        "if 'const' in significant_vars:\n",
        "    significant_vars.remove('const')  # Keep the intercept\n",
        "X_new = sm.add_constant(df[significant_vars])\n",
        "model_new = sm.OLS(y, X_new).fit()\n",
        "\n",
        "# Display updated model summary, notice X3 is removed\n",
        "print(model_new.summary())\n"
      ],
      "metadata": {
        "colab": {
          "base_uri": "https://localhost:8080/"
        },
        "id": "eqlldqO3DIh1",
        "outputId": "89d8a8dd-813e-47ae-ff98-e5e860f7a56a"
      },
      "execution_count": 5,
      "outputs": [
        {
          "output_type": "stream",
          "name": "stdout",
          "text": [
            "                            OLS Regression Results                            \n",
            "==============================================================================\n",
            "Dep. Variable:                      y   R-squared:                       0.784\n",
            "Model:                            OLS   Adj. R-squared:                  0.778\n",
            "Method:                 Least Squares   F-statistic:                     116.4\n",
            "Date:                Mon, 17 Mar 2025   Prob (F-statistic):           7.26e-32\n",
            "Time:                        03:57:07   Log-Likelihood:                -127.46\n",
            "No. Observations:                 100   AIC:                             262.9\n",
            "Df Residuals:                      96   BIC:                             273.3\n",
            "Df Model:                           3                                         \n",
            "Covariance Type:            nonrobust                                         \n",
            "==============================================================================\n",
            "                 coef    std err          t      P>|t|      [0.025      0.975]\n",
            "------------------------------------------------------------------------------\n",
            "const          3.0875      0.089     34.599      0.000       2.910       3.265\n",
            "X1             1.8227      0.100     18.140      0.000       1.623       2.022\n",
            "X2             0.4618      0.094      4.913      0.000       0.275       0.648\n",
            "X3             0.0269      0.083      0.322      0.748      -0.139       0.193\n",
            "==============================================================================\n",
            "Omnibus:                        1.353   Durbin-Watson:                   1.821\n",
            "Prob(Omnibus):                  0.508   Jarque-Bera (JB):                1.317\n",
            "Skew:                           0.169   Prob(JB):                        0.518\n",
            "Kurtosis:                       2.551   Cond. No.                         1.37\n",
            "==============================================================================\n",
            "\n",
            "Notes:\n",
            "[1] Standard Errors assume that the covariance matrix of the errors is correctly specified.\n",
            "                            OLS Regression Results                            \n",
            "==============================================================================\n",
            "Dep. Variable:                      y   R-squared:                       0.784\n",
            "Model:                            OLS   Adj. R-squared:                  0.780\n",
            "Method:                 Least Squares   F-statistic:                     176.2\n",
            "Date:                Mon, 17 Mar 2025   Prob (F-statistic):           5.08e-33\n",
            "Time:                        03:57:07   Log-Likelihood:                -127.52\n",
            "No. Observations:                 100   AIC:                             261.0\n",
            "Df Residuals:                      97   BIC:                             268.8\n",
            "Df Model:                           2                                         \n",
            "Covariance Type:            nonrobust                                         \n",
            "==============================================================================\n",
            "                 coef    std err          t      P>|t|      [0.025      0.975]\n",
            "------------------------------------------------------------------------------\n",
            "const          3.0899      0.089     34.907      0.000       2.914       3.266\n",
            "X1             1.8288      0.098     18.616      0.000       1.634       2.024\n",
            "X2             0.4614      0.094      4.933      0.000       0.276       0.647\n",
            "==============================================================================\n",
            "Omnibus:                        1.512   Durbin-Watson:                   1.820\n",
            "Prob(Omnibus):                  0.469   Jarque-Bera (JB):                1.434\n",
            "Skew:                           0.180   Prob(JB):                        0.488\n",
            "Kurtosis:                       2.537   Cond. No.                         1.23\n",
            "==============================================================================\n",
            "\n",
            "Notes:\n",
            "[1] Standard Errors assume that the covariance matrix of the errors is correctly specified.\n"
          ]
        }
      ]
    }
  ]
}