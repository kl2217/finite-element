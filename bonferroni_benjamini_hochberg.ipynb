{
  "nbformat": 4,
  "nbformat_minor": 0,
  "metadata": {
    "colab": {
      "provenance": [],
      "authorship_tag": "ABX9TyOtTy1eRV34eNzOkr56JZ+F",
      "include_colab_link": true
    },
    "kernelspec": {
      "name": "python3",
      "display_name": "Python 3"
    },
    "language_info": {
      "name": "python"
    }
  },
  "cells": [
    {
      "cell_type": "markdown",
      "metadata": {
        "id": "view-in-github",
        "colab_type": "text"
      },
      "source": [
        "<a href=\"https://colab.research.google.com/github/kl2217/finite-element/blob/main/bonferroni_benjamini_hochberg.ipynb\" target=\"_parent\"><img src=\"https://colab.research.google.com/assets/colab-badge.svg\" alt=\"Open In Colab\"/></a>"
      ]
    },
    {
      "cell_type": "markdown",
      "source": [
        "Bonferroni Correction\n",
        "\n",
        "The Bonferroni correction adjusts the significance level (alpha) for each individual test by dividing the original alpha by the number of tests performed.\n",
        "\n",
        "α' = α / m\n",
        "\n",
        "where:\n",
        "\n",
        "α' is the adjusted significance level for each individual test.\n",
        "α is the original significance level (e.g., 0.05).\n",
        "m is the total number of tests performed.\n",
        "\n",
        "Benjamini-Hochberg Correction\n",
        "\n",
        "The Benjamini-Hochberg correction controls the False Discovery Rate (FDR) by adjusting the p-values of each individual test.\n",
        "\n",
        "pᵢ ≤ (i/m)α\n",
        "\n",
        "where:\n",
        "\n",
        "pᵢ is the p-value for the iᵗʰ test (sorted in ascending order).\n",
        "i is the rank of the iᵗʰ test.\n",
        "m is the total number of tests performed.\n",
        "α is the desired false discovery rate (e.g., 0.05).\n",
        "The Benjamini-Hochberg procedure rejects the null hypothesis for all tests with a p-value less than or equal to the largest k such that pₖ ≤ (k/m)α.\n",
        "\n",
        "In simpler terms:\n",
        "\n",
        "Bonferroni Correction: Divide the significance level by the number of tests.\n",
        "Benjamini-Hochberg Correction: Compare each p-value to a scaled significance level based on its rank.\n"
      ],
      "metadata": {
        "id": "wO46fbed1goo"
      }
    },
    {
      "cell_type": "code",
      "source": [
        "# an example to demonstrate the Bonferroni correction and Benjamini-Hochberg correction method\n",
        "\n",
        "import numpy as np\n",
        "from scipy import stats\n",
        "\n",
        "# Example p-values (replace with your actual p-values)\n",
        "p_values = np.array([0.01, 0.03, 0.005, 0.08, 0.02, 0.05, 0.12, 0.06, 0.04, 0.09])\n",
        "alpha = 0.05  # Significance level\n",
        "\n",
        "# Bonferroni correction\n",
        "bonferroni_threshold = alpha / len(p_values)\n",
        "bonferroni_rejected = p_values < bonferroni_threshold\n",
        "print(\"Bonferroni-corrected p-values:\", p_values)\n",
        "print(\"Bonferroni threshold:\", bonferroni_threshold)\n",
        "print(\"Bonferroni rejected hypotheses:\", bonferroni_rejected)\n",
        "\n",
        "\n",
        "# Benjamini-Hochberg correction\n",
        "sorted_p_values = np.sort(p_values)\n",
        "ranks = np.arange(1, len(p_values) + 1)\n",
        "bh_threshold = (ranks / len(p_values)) * alpha\n",
        "bh_rejected = sorted_p_values <= bh_threshold\n",
        "# Find the largest k such that p_k <= k/m * alpha\n",
        "k = np.max(np.where(sorted_p_values <= bh_threshold))\n",
        "bh_rejected = sorted_p_values <= bh_threshold[k]\n",
        "bh_rejected_indices = np.argsort(p_values)[np.where(bh_rejected)]\n",
        "bh_rejected_original = np.zeros_like(p_values, dtype=bool)\n",
        "bh_rejected_original[bh_rejected_indices] = True\n",
        "\n",
        "print(\"\\nBenjamini-Hochberg-corrected p-values:\", p_values)\n",
        "print(\"Benjamini-Hochberg rejected hypotheses:\", bh_rejected_original)\n",
        "print(\"Benjamini-Hochberg threshold:\", bh_threshold[k])\n"
      ],
      "metadata": {
        "colab": {
          "base_uri": "https://localhost:8080/"
        },
        "id": "iLDRHQ1v1knC",
        "outputId": "2906382e-ede5-45ef-a722-0b5f355f35c3"
      },
      "execution_count": 4,
      "outputs": [
        {
          "output_type": "stream",
          "name": "stdout",
          "text": [
            "Bonferroni-corrected p-values: [0.01  0.03  0.005 0.08  0.02  0.05  0.12  0.06  0.04  0.09 ]\n",
            "Bonferroni threshold: 0.005\n",
            "Bonferroni rejected hypotheses: [False False False False False False False False False False]\n",
            "\n",
            "Benjamini-Hochberg-corrected p-values: [0.01  0.03  0.005 0.08  0.02  0.05  0.12  0.06  0.04  0.09 ]\n",
            "Benjamini-Hochberg rejected hypotheses: [ True False  True False False False False False False False]\n",
            "Benjamini-Hochberg threshold: 0.010000000000000002\n"
          ]
        }
      ]
    }
  ]
}